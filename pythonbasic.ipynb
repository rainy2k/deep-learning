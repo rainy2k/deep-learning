{
 "cells": [
  {
   "cell_type": "markdown",
   "id": "0e97b93c",
   "metadata": {},
   "source": [
    "## 输入输出"
   ]
  },
  {
   "cell_type": "code",
   "execution_count": 2,
   "id": "9eb40ab2",
   "metadata": {
    "scrolled": true
   },
   "outputs": [],
   "source": [
    "name = input()"
   ]
  },
  {
   "cell_type": "code",
   "execution_count": 3,
   "id": "8f3721a8",
   "metadata": {},
   "outputs": [
    {
     "name": "stdout",
     "output_type": "stream",
     "text": [
      "hello 123\n",
      "hello123\n"
     ]
    }
   ],
   "source": [
    "print(\"hello\",name)\n",
    "print(\"hello\"+name)"
   ]
  },
  {
   "cell_type": "code",
   "execution_count": 8,
   "id": "fcffe7e3",
   "metadata": {},
   "outputs": [
    {
     "name": "stdout",
     "output_type": "stream",
     "text": [
      "1\n",
      "2\n"
     ]
    }
   ],
   "source": [
    "inta = input()\n",
    "intb = input()"
   ]
  },
  {
   "cell_type": "code",
   "execution_count": 11,
   "id": "9a76c618",
   "metadata": {
    "scrolled": true
   },
   "outputs": [
    {
     "name": "stdout",
     "output_type": "stream",
     "text": [
      "12\n",
      "3\n"
     ]
    }
   ],
   "source": [
    "print(inta+intb)\n",
    "print(int(inta)+int(intb))"
   ]
  },
  {
   "cell_type": "code",
   "execution_count": 12,
   "id": "c5f58345",
   "metadata": {
    "scrolled": true
   },
   "outputs": [
    {
     "name": "stdout",
     "output_type": "stream",
     "text": [
      "12.3\n",
      "-10.94\n"
     ]
    }
   ],
   "source": [
    "F=float(input())\n",
    "print(format(5*(F-32)/9,'.2f'))"
   ]
  },
  {
   "cell_type": "code",
   "execution_count": 13,
   "id": "e0e5e5da",
   "metadata": {},
   "outputs": [
    {
     "name": "stdout",
     "output_type": "stream",
     "text": [
      "3.5\n",
      "-15.83\n"
     ]
    }
   ],
   "source": [
    "F=float(input())\n",
    "print('%.2f'%(5*(F-32)/9))"
   ]
  },
  {
   "cell_type": "code",
   "execution_count": 14,
   "id": "c0376085",
   "metadata": {},
   "outputs": [
    {
     "name": "stdout",
     "output_type": "stream",
     "text": [
      "1.2\n",
      "2.40 7.54 4.52\n"
     ]
    }
   ],
   "source": [
    "PI=3.1415926\n",
    "r=float(input())\n",
    "d=2*r\n",
    "circle=2*PI*r\n",
    "area=PI*r**2 \n",
    "print(\"%.2f\"%d,\"%.2f\"%circle,\"%.2f\"%area)"
   ]
  },
  {
   "cell_type": "code",
   "execution_count": 22,
   "id": "24347d21",
   "metadata": {
    "scrolled": true
   },
   "outputs": [
    {
     "name": "stdout",
     "output_type": "stream",
     "text": [
      "1 2 1.6666666666666667 125\n"
     ]
    }
   ],
   "source": [
    "a = 5;b = 3\n",
    "print(a//b, a%b, a/b, a**b)\n",
    "# a//b 是输出商的整数部分"
   ]
  },
  {
   "cell_type": "code",
   "execution_count": 26,
   "id": "5db6f888",
   "metadata": {},
   "outputs": [
    {
     "name": "stdout",
     "output_type": "stream",
     "text": [
      "49\n",
      "99\n"
     ]
    }
   ],
   "source": [
    "# ord() 输出ascii码\n",
    "a = '1'\n",
    "print(ord(a))\n",
    "a = 'c'\n",
    "print(ord(a))"
   ]
  },
  {
   "cell_type": "code",
   "execution_count": 29,
   "id": "4b97c74e",
   "metadata": {
    "scrolled": true
   },
   "outputs": [
    {
     "name": "stdout",
     "output_type": "stream",
     "text": [
      "D6\n",
      "D0\n",
      "B9\n",
      "FA\n",
      "43\n",
      "68\n",
      "69\n",
      "6E\n",
      "61\n"
     ]
    }
   ],
   "source": [
    "# GBK国标码\n",
    "a='中国China'\n",
    "a=a.encode('gbk')\n",
    "for i in a:\n",
    "    print(\"%02X\" % i)"
   ]
  },
  {
   "cell_type": "code",
   "execution_count": 31,
   "id": "d76ec746",
   "metadata": {},
   "outputs": [
    {
     "name": "stdout",
     "output_type": "stream",
     "text": [
      "99\n",
      "c\n"
     ]
    }
   ],
   "source": [
    "# chr() 用一个范围在256内的整数作参数，返回一个对应的字符\n",
    "# 注意输入的类型为int\n",
    "a=int(input())\n",
    "print(chr(a))"
   ]
  },
  {
   "cell_type": "code",
   "execution_count": 90,
   "id": "5b6d1a78",
   "metadata": {},
   "outputs": [
    {
     "name": "stdout",
     "output_type": "stream",
     "text": [
      "a\tb\n",
      "----------\n",
      "a\n",
      "b\n",
      "----------\n",
      "a\bb\n",
      "----------\n",
      "0123456\b\b\n"
     ]
    }
   ],
   "source": [
    "print('a\\tb')\n",
    "print('----------')\n",
    "print('a\\nb')\n",
    "print('----------')\n",
    "print(\"a\\bb\") # \\b是退格键\n",
    "print('----------')\n",
    "print(\"0123456\\b\\b\")"
   ]
  },
  {
   "cell_type": "code",
   "execution_count": 49,
   "id": "51934862",
   "metadata": {},
   "outputs": [
    {
     "name": "stdout",
     "output_type": "stream",
     "text": [
      "a\n",
      "g\n"
     ]
    }
   ],
   "source": [
    "a = \"gua\"\n",
    "print(a[-1])"
   ]
  },
  {
   "cell_type": "code",
   "execution_count": 86,
   "id": "f4ab75f7",
   "metadata": {},
   "outputs": [],
   "source": [
    "a = \"012345678\"\n",
    "assert(a[-3:-1] == \"67\")\n",
    "assert(a[1:3] == \"12\")\n",
    "# [start: end: step] 从start到end-1, 以step为步数\n",
    "assert(a[0:8:1] == \"01234567\")\n",
    "assert(a[0:8:2] == \"0246\")"
   ]
  },
  {
   "cell_type": "code",
   "execution_count": 81,
   "id": "18121cba",
   "metadata": {},
   "outputs": [],
   "source": [
    "a = [1,2,3,4,5]\n",
    "b = 1\n",
    "assert(b in a)"
   ]
  },
  {
   "cell_type": "code",
   "execution_count": 80,
   "id": "6175b7aa",
   "metadata": {},
   "outputs": [],
   "source": [
    "assert(a == 1 and b == 2)\n",
    "a = 0\n",
    "assert(not a)"
   ]
  },
  {
   "cell_type": "code",
   "execution_count": 96,
   "id": "b56e05a1",
   "metadata": {},
   "outputs": [
    {
     "name": "stdout",
     "output_type": "stream",
     "text": [
      "2\n",
      "1.0\n",
      "1.6666666666666667\n",
      "2\n"
     ]
    }
   ],
   "source": [
    "print(float(5)//float(3))\n",
    "print(float(5)/float(3))\n",
    "print(round(float(5)/float(3)))"
   ]
  },
  {
   "cell_type": "code",
   "execution_count": 109,
   "id": "fcd01f03",
   "metadata": {},
   "outputs": [
    {
     "name": "stdout",
     "output_type": "stream",
     "text": [
      "2022 is not leapyear\n",
      "2022 is not leapyear\n"
     ]
    }
   ],
   "source": [
    "# 闰年\n",
    "year = 2022\n",
    "if year % 4 ==0 and year % 100 !=0:\n",
    "    print(str(year) + \" is leapyear\")\n",
    "elif year % 400 == 0:\n",
    "    print(str(year) + \" is leapyear\")\n",
    "else:\n",
    "    print(str(year) + \" is not leapyear\")\n",
    "    \n",
    "\n",
    "if year % 4 == 0 and year % 100 != 0 or year % 400 == 0:\n",
    "    print(str(year) + \" is leapyear\")\n",
    "else:\n",
    "    print(str(year) + \" is not leapyear\")"
   ]
  },
  {
   "cell_type": "code",
   "execution_count": 116,
   "id": "b9c0503c",
   "metadata": {},
   "outputs": [
    {
     "name": "stdout",
     "output_type": "stream",
     "text": [
      "1\n",
      "2\n",
      "3\n"
     ]
    }
   ],
   "source": [
    "# [start,end)\n",
    "n = 3\n",
    "for i in range(1,n+1):\n",
    "    print(i)"
   ]
  },
  {
   "cell_type": "code",
   "execution_count": 117,
   "id": "1f74420e",
   "metadata": {},
   "outputs": [
    {
     "name": "stdout",
     "output_type": "stream",
     "text": [
      "5\n",
      "4\n",
      "3\n",
      "2\n",
      "1\n"
     ]
    }
   ],
   "source": [
    "# [start,end,step]\n",
    "n = 5\n",
    "for i in range(n,0,-1):\n",
    "    print(i)"
   ]
  },
  {
   "cell_type": "code",
   "execution_count": 3,
   "id": "e2cdeca8",
   "metadata": {},
   "outputs": [
    {
     "ename": "NameError",
     "evalue": "name '_C' is not defined",
     "output_type": "error",
     "traceback": [
      "\u001b[0;31m---------------------------------------------------------------------------\u001b[0m",
      "\u001b[0;31mNameError\u001b[0m                                 Traceback (most recent call last)",
      "\u001b[0;32m/var/folders/jm/3cgjkcw943s630kp7txh0rpw0000gq/T/ipykernel_4812/3714518414.py\u001b[0m in \u001b[0;36m<module>\u001b[0;34m\u001b[0m\n\u001b[0;32m----> 1\u001b[0;31m \u001b[0;32mimport\u001b[0m \u001b[0mtorch\u001b[0m\u001b[0;34m\u001b[0m\u001b[0;34m\u001b[0m\u001b[0m\n\u001b[0m\u001b[1;32m      2\u001b[0m \u001b[0;32mfrom\u001b[0m \u001b[0mtorch\u001b[0m \u001b[0;32mimport\u001b[0m \u001b[0mnn\u001b[0m\u001b[0;34m\u001b[0m\u001b[0;34m\u001b[0m\u001b[0m\n\u001b[1;32m      3\u001b[0m \u001b[0;32mfrom\u001b[0m \u001b[0mtorch\u001b[0m \u001b[0;32mimport\u001b[0m \u001b[0moptim\u001b[0m\u001b[0;34m\u001b[0m\u001b[0;34m\u001b[0m\u001b[0m\n\u001b[1;32m      4\u001b[0m \u001b[0;32mimport\u001b[0m \u001b[0mtorch\u001b[0m\u001b[0;34m.\u001b[0m\u001b[0mnn\u001b[0m\u001b[0;34m.\u001b[0m\u001b[0mfunctional\u001b[0m \u001b[0;32mas\u001b[0m \u001b[0mF\u001b[0m\u001b[0;34m\u001b[0m\u001b[0;34m\u001b[0m\u001b[0m\n\u001b[1;32m      5\u001b[0m \u001b[0mstate\u001b[0m \u001b[0;34m=\u001b[0m \u001b[0;36m1\u001b[0m\u001b[0;34m\u001b[0m\u001b[0;34m\u001b[0m\u001b[0m\n",
      "\u001b[0;32m/usr/local/lib/python3.9/site-packages/torch/__init__.py\u001b[0m in \u001b[0;36m<module>\u001b[0;34m\u001b[0m\n\u001b[1;32m    227\u001b[0m \u001b[0;34m\u001b[0m\u001b[0m\n\u001b[1;32m    228\u001b[0m \u001b[0;34m\u001b[0m\u001b[0m\n\u001b[0;32m--> 229\u001b[0;31m __all__ += [name for name in dir(_C)\n\u001b[0m\u001b[1;32m    230\u001b[0m             \u001b[0;32mif\u001b[0m \u001b[0mname\u001b[0m\u001b[0;34m[\u001b[0m\u001b[0;36m0\u001b[0m\u001b[0;34m]\u001b[0m \u001b[0;34m!=\u001b[0m \u001b[0;34m'_'\u001b[0m \u001b[0;32mand\u001b[0m\u001b[0;34m\u001b[0m\u001b[0;34m\u001b[0m\u001b[0m\n\u001b[1;32m    231\u001b[0m             not name.endswith('Base')]\n",
      "\u001b[0;31mNameError\u001b[0m: name '_C' is not defined"
     ]
    }
   ],
   "source": [
    "import torch\n",
    "import torch.nn.functional as F\n",
    "state = 1\n",
    "state = torch.from_numpy(state).type(\n",
    "    torch.FloatTensor)\n",
    "print(state)"
   ]
  }
 ],
 "metadata": {
  "kernelspec": {
   "display_name": "Python 3 (ipykernel)",
   "language": "python",
   "name": "python3"
  },
  "language_info": {
   "codemirror_mode": {
    "name": "ipython",
    "version": 3
   },
   "file_extension": ".py",
   "mimetype": "text/x-python",
   "name": "python",
   "nbconvert_exporter": "python",
   "pygments_lexer": "ipython3",
   "version": "3.9.9"
  }
 },
 "nbformat": 4,
 "nbformat_minor": 5
}
